{
 "cells": [
  {
   "cell_type": "code",
   "execution_count": 6,
   "id": "945b625d-0e61-4e32-abf6-1103d38b454f",
   "metadata": {},
   "outputs": [],
   "source": [
    "import numpy as np\n",
    "# np.random.seed(0)\n",
    "\n",
    "def generate_copies(gold, sub_p, del_p, ins_p):\n",
    "    res = []\n",
    "    for w in gold:\n",
    "        r = np.random.random()\n",
    "        if r < sub_p:\n",
    "            res.append(np.random.choice(['A','G','C','T']))\n",
    "        elif r < sub_p + ins_p:\n",
    "            res.append(np.random.choice(['A','G','C','T']))\n",
    "            res.append(w)\n",
    "        elif r > sub_p + ins_p + del_p:\n",
    "            res.append(w)\n",
    "    return ''.join(res)\n",
    "\n",
    "\n",
    "def generate_strands(strand_num, strand_length, error_rate):\n",
    "    strands = []\n",
    "    for i in range(strand_num):\n",
    "        d = np.random.choice(['A','G','C','T'], size=(strand_length))\n",
    "        s = ''.join(d)\n",
    "        strands.append(s)\n",
    "    print('check strands length', len(strands))\n",
    "\n",
    "    N = 10\n",
    "    subs = dels = inss = error_rate\n",
    "    copies = []\n",
    "    for strand in strands:\n",
    "        cluster = []\n",
    "        for x in range(N):\n",
    "            cluster.append(generate_copies(strand, subs, dels, inss))\n",
    "        copies.append(cluster)\n",
    "    print('check copies length', len(copies))\n",
    "    \n",
    "    return copies, strands\n",
    "print('done')"
   ]
  },
  {
   "cell_type": "code",
   "execution_count": 5,
   "id": "150d471d-68ba-4b1b-8554-2683ffd8c99f",
   "metadata": {},
   "outputs": [],
   "source": [
    "# generate testing data\n",
    "test_num = 50000\n",
    "strand_length = 120\n",
    "error_rate = 0.01\n",
    "\n",
    "print('generate testing data', test_num, strand_length, error_rate)\n",
    "test_x, test_y = generate_strands(test_num, strand_length, error_rate)\n",
    "test_x, test_y = np.array(test_x), np.array(test_y)\n",
    "print('test_x shape', test_x.shape, 'test_y shape', test_y.shape)\n",
    "np.savez('test_' + str(test_num) + '_' + str(strand_length) + '_' + str(error_rate) + '.npz', \n",
    "         test_x=test_x, test_y=test_y)"
   ]
  },
  {
   "cell_type": "code",
   "execution_count": 2,
   "id": "8aed51f8-4f04-40bc-9afc-26d32f53b699",
   "metadata": {},
   "outputs": [],
   "source": [
    "# generate training data if needed\n",
    "train_num = 50000\n",
    "strand_length = 120\n",
    "error_rate = 0.01\n",
    "\n",
    "print('generate training data', train_num, strand_length, error_rate)\n",
    "x, y = generate_strands(train_num, strand_length, error_rate)\n",
    "cut = int(len(x) * 0.1)\n",
    "train_x, train_y = x[:cut*9], y[:cut*9]\n",
    "valid_x, valid_y = x[cut*9:], y[cut*9:]\n",
    "\n",
    "train_x, train_y = np.array(train_x), np.array(train_y)\n",
    "valid_x, valid_y = np.array(valid_x), np.array(valid_y)\n",
    "print('train_x shape', train_x.shape, 'train_y shape', train_y.shape)\n",
    "print('valid_x shape', valid_x.shape, 'valid_y shape', valid_y.shape)\n",
    "\n",
    "np.savez('train_' + str(train_num) + '_' + str(strand_length) + '_' + str(error_rate) + '.npz', \n",
    "         train_x=train_x, train_y=train_y,\n",
    "         valid_x=valid_x, valid_y=valid_y)"
   ]
  },
  {
   "cell_type": "code",
   "execution_count": null,
   "id": "a57bcc75-12dd-463a-80d0-d9b85fe49a02",
   "metadata": {},
   "outputs": [],
   "source": []
  }
 ],
 "metadata": {
  "kernelspec": {
   "display_name": "torch",
   "language": "python",
   "name": "torch"
  },
  "language_info": {
   "codemirror_mode": {
    "name": "ipython",
    "version": 3
   },
   "file_extension": ".py",
   "mimetype": "text/x-python",
   "name": "python",
   "nbconvert_exporter": "python",
   "pygments_lexer": "ipython3",
   "version": "3.7.10"
  }
 },
 "nbformat": 4,
 "nbformat_minor": 5
}
